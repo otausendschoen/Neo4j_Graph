{
 "cells": [
  {
   "cell_type": "markdown",
   "id": "6e4740ef",
   "metadata": {},
   "source": [
    "# A3 Evolving the Graph"
   ]
  },
  {
   "cell_type": "markdown",
   "id": "3f384a13",
   "metadata": {},
   "source": [
    "In this script, we present the cypher querires corresponding to Option B as described in the PDF report."
   ]
  },
  {
   "cell_type": "markdown",
   "id": "bfa55dbd",
   "metadata": {},
   "source": [
    "## Additional constraints to our new model"
   ]
  },
  {
   "cell_type": "markdown",
   "id": "908aab82",
   "metadata": {},
   "source": [
    "### Constrain to enforce that every review relationship has a decision"
   ]
  },
  {
   "cell_type": "markdown",
   "id": "3995857c",
   "metadata": {},
   "source": [
    "```bash\n",
    "CREATE CONSTRAINT reviewedDecisionExists\n",
    "FOR ()-[r:REVIEWED]-()\n",
    "REQUIRE r.decision IS NOT NULL;"
   ]
  },
  {
   "cell_type": "markdown",
   "id": "b67af229",
   "metadata": {},
   "source": [
    "### Constraint to keep only papers with mostly positive reviews"
   ]
  },
  {
   "cell_type": "markdown",
   "id": "6b791908",
   "metadata": {},
   "source": [
    "```bash\n",
    "// find all papers where more than half of its reviews say “accept”\n",
    "MATCH (p:article)<-[r:REVIEWED]-()\n",
    "WITH\n",
    "  p,\n",
    "  count(*)                                         AS totalReviews,\n",
    "  sum(CASE WHEN r.decision = 'accept' THEN 1 ELSE 0 END) AS numAccepts\n",
    "WHERE numAccepts > totalReviews / 2\n",
    "RETURN \n",
    "  p.key         AS paper,\n",
    "  numAccepts,\n",
    "  totalReviews;\n",
    "\n"
   ]
  },
  {
   "cell_type": "markdown",
   "id": "0e27d2c3",
   "metadata": {},
   "source": [
    "## Query to create new REVIEW edges in the evolved graph"
   ]
  },
  {
   "cell_type": "markdown",
   "id": "f73a907e",
   "metadata": {},
   "source": [
    "```bash\n",
    "UNWIND [\n",
    "  { paperKey: 'journals/ral/AhnSD18', reviewerName: 'Feras Dayoub',  decision: 'accept', content: 'Nice write-up!' },\n",
    "  { paperKey: 'journals/ral/AhnSD18', reviewerName: 'Ho Seok Ahn',   decision: 'reject', content: 'Methods unclear.' },\n",
    "  { paperKey: 'journals/ral/AhnSD18', reviewerName: 'Inkyu Sa',      decision: 'accept', content: 'Solid evaluation.' }\n",
    "] AS row\n",
    "\n",
    "MATCH (p:article {key: row.paperKey})\n",
    "MATCH (a:author {author: row.reviewerName})\n",
    "\n",
    "CREATE (p)-[:REVIEWED {\n",
    "    decision: row.decision,\n",
    "    content:  row.content,\n",
    "    reviewedOn: date()\n",
    "}]->(a);"
   ]
  },
  {
   "cell_type": "markdown",
   "id": "281b2545",
   "metadata": {},
   "source": [
    "## Query to Create Affiliations/Organizations\n",
    "\n",
    "Below, we will futhter evolve to:\n",
    "\n",
    "- Add a node type Organization (for university, company, etc.).\n",
    "\n",
    "- Connect authors to organizations using AFFILIATED_WITH."
   ]
  },
  {
   "cell_type": "markdown",
   "id": "8ce98dc6",
   "metadata": {},
   "source": [
    "```bash\n",
    "UNWIND [\n",
    "  { authorName: \"Feras Dayoub\",        org: \"Queensland University of Technology\" },\n",
    "  { authorName: \"Ho Seok Ahn\",         org: \"Korea Advanced Institute of Science and Technology\" },\n",
    "  { authorName: \"Inkyu Sa\",            org: \"Kyungpook National University\" },\n",
    "  { authorName: \"Jean C. S. Rosa\",     org: \"Federal University of Technology - Paraná\" },\n",
    "  { authorName: \"Thiago Baesso Procaci\", org: \"Federal University of São Carlos\" },\n",
    "  { authorName: \"Eliana Alves Moreira\", org: \"University of São Paulo\" }\n",
    "] AS row\n",
    "\n",
    "MATCH (a:author {author: row.authorName})\n",
    "MERGE (o:Organization {name: row.org})\n",
    "MERGE (a)-[:AFFILIATED_WITH]->(o);"
   ]
  },
  {
   "cell_type": "code",
   "execution_count": 1,
   "id": "6b5cba6c",
   "metadata": {},
   "outputs": [
    {
     "data": {
      "text/html": [
       "\n",
       "    <div style=\"background-color: white; padding: 10px; display: inline-block; border: 1px solid #ddd; border-radius: 8px;\">\n",
       "      <img src=\"graph4.png\" alt=\"Graph\" />\n",
       "    </div>\n",
       "    "
      ],
      "text/plain": [
       "<IPython.core.display.HTML object>"
      ]
     },
     "execution_count": 1,
     "metadata": {},
     "output_type": "execute_result"
    }
   ],
   "source": [
    "from IPython.display import HTML\n",
    "def display_image_with_white_background(img_path): #this function avoids bad looking images and caching problems when using html in jupyter notebook\n",
    "    html = f\"\"\"\n",
    "    <div style=\"background-color: white; padding: 10px; display: inline-block; border: 1px solid #ddd; border-radius: 8px;\">\n",
    "      <img src=\"{img_path}\" alt=\"Graph\" />\n",
    "    </div>\n",
    "    \"\"\"\n",
    "    return HTML(html)\n",
    "\n",
    "display_image_with_white_background(\"graph4.png\")"
   ]
  }
 ],
 "metadata": {
  "kernelspec": {
   "display_name": "data_management",
   "language": "python",
   "name": "python3"
  },
  "language_info": {
   "codemirror_mode": {
    "name": "ipython",
    "version": 3
   },
   "file_extension": ".py",
   "mimetype": "text/x-python",
   "name": "python",
   "nbconvert_exporter": "python",
   "pygments_lexer": "ipython3",
   "version": "3.11.11"
  }
 },
 "nbformat": 4,
 "nbformat_minor": 5
}
