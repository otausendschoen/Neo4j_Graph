{
 "cells": [
  {
   "cell_type": "markdown",
   "id": "bfa55dbd",
   "metadata": {},
   "source": [
    "## Additional constraints to our new model"
   ]
  },
  {
   "cell_type": "markdown",
   "id": "908aab82",
   "metadata": {},
   "source": [
    "### Constrain to enforce that every review relationship has a decision"
   ]
  },
  {
   "cell_type": "markdown",
   "id": "ee32d178",
   "metadata": {},
   "source": [
    "```bash\n",
    "CREATE CONSTRAINT reviewedDecisionExists\n",
    "FOR ()-[r:REVIEWED]-()\n",
    "REQUIRE r.decision IS NOT NULL;"
   ]
  },
  {
   "cell_type": "markdown",
   "id": "b67af229",
   "metadata": {},
   "source": [
    "### Constraint to keep only papers with mostly positive reviews"
   ]
  },
  {
   "cell_type": "markdown",
   "id": "6b791908",
   "metadata": {},
   "source": [
    "```bash\n",
    "// find all papers where more than half of its reviews say “accept”\n",
    "MATCH (p:article)<-[r:REVIEWED]-()\n",
    "WITH\n",
    "  p,\n",
    "  count(*)                                         AS totalReviews,\n",
    "  sum(CASE WHEN r.decision = 'accept' THEN 1 ELSE 0 END) AS numAccepts\n",
    "WHERE numAccepts > totalReviews / 2\n",
    "RETURN \n",
    "  p.key         AS paper,\n",
    "  numAccepts,\n",
    "  totalReviews;\n",
    "\n"
   ]
  },
  {
   "cell_type": "markdown",
   "id": "0e27d2c3",
   "metadata": {},
   "source": [
    "## Query to create new REVIEW edges in the evolved graph"
   ]
  },
  {
   "cell_type": "markdown",
   "id": "f73a907e",
   "metadata": {},
   "source": [
    "```bash\n",
    "// (b) create new REVIEWED edges with decision & content\n",
    "UNWIND [\n",
    "  { paperKey: 'journals/foo/Bar20', reviewerKey: 'alice', decision: 'accept', content: 'Nice write-up!' },\n",
    "  { paperKey: 'journals/foo/Bar20', reviewerKey: 'bob',   decision: 'reject', content: 'Methods unclear.'   },\n",
    "  { paperKey: 'journals/foo/Bar20', reviewerKey: 'carol', decision: 'accept', content: 'Solid evaluation.' },\n",
    "  … \n",
    "] AS row\n",
    "MATCH (p:article {key:row.paperKey})\n",
    "MATCH (a:author  {key:row.reviewerKey})\n",
    "CREATE (p)-[:REVIEWED {\n",
    "    decision: row.decision,\n",
    "    content:  row.content,\n",
    "    reviewedOn: date()\n",
    "}]->(a);"
   ]
  }
 ],
 "metadata": {
  "language_info": {
   "name": "python"
  }
 },
 "nbformat": 4,
 "nbformat_minor": 5
}
