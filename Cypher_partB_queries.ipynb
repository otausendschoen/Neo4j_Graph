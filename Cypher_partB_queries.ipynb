{
 "cells": [
  {
   "cell_type": "markdown",
   "id": "913a89ff",
   "metadata": {},
   "source": [
    "# 1. Top 3 most cited papers of each Conference"
   ]
  },
  {
   "cell_type": "markdown",
   "id": "ff1f8289",
   "metadata": {},
   "source": [
    "Below is the code to extract the most cited Articles of each Conference. Given our model, we will smoothly traverse through an article to the Conference it belongs to thanks to the flexibility of Neo4j. To do so, we first match all nodes, then easily count how many citations each paper has thanks to the \"has_citations\" node we designed. Once we have such data, we proceed to collect the top 3 articles per conference, and unwind the results to present them. "
   ]
  },
  {
   "cell_type": "markdown",
   "id": "bb1fe147",
   "metadata": {},
   "source": [
    "```bash\n",
    "// 1. Traverse from article → booktitle → proceedings → edition → conference\n",
    "MATCH \n",
    "  (p:article)\n",
    "    -[:PRESENTED_AT]->(bt:booktitle)\n",
    "    <-[:PRESENTED_AT]-(pr:proceedings)\n",
    "    -[:OF_EDITION]->(ed:ConferenceEdition)\n",
    "    -[:PART_OF]->(c:Conference)\n",
    "\n",
    "// 2. Count citations per paper\n",
    "OPTIONAL MATCH \n",
    "  (:article)-[:HAS_CITATION]->(p)\n",
    "WITH\n",
    "  c.name         AS conference,\n",
    "  bt.title       AS booktitle,\n",
    "  p.title        AS paper,\n",
    "  count(*)       AS citations\n",
    "\n",
    "// 3. Collect top 3 by citation per conference\n",
    "ORDER BY conference, citations DESC\n",
    "WITH\n",
    "  conference,\n",
    "  collect({booktitle:booktitle, paper:paper, cites:citations})[0..3] AS top3\n",
    "\n",
    "// 4. Unwind and present\n",
    "UNWIND top3 AS row\n",
    "RETURN\n",
    "  conference,\n",
    "  row.booktitle  AS edition,\n",
    "  row.paper      AS paper,\n",
    "  row.cites      AS citations\n",
    "ORDER BY\n",
    "  conference,\n",
    "  row.cites DESC;\n"
   ]
  },
  {
   "cell_type": "markdown",
   "id": "4d61a5fc",
   "metadata": {},
   "source": [
    "# 2. Conference Community"
   ]
  },
  {
   "cell_type": "markdown",
   "id": "6b2ff981",
   "metadata": {},
   "source": [
    "To make the following query as efficient as possible, we follow the procedure below. We first match the nodes affected during the traverse (the same as in the previous query, adding the author), and then match only the authors that have made an article publication to 4 different Editions of the same Conference. "
   ]
  },
  {
   "cell_type": "markdown",
   "id": "4626956a",
   "metadata": {},
   "source": [
    "```bash\n",
    "MATCH \n",
    "  (a:author)<-[:AUTHORED_BY]-(art:article)\n",
    "  -[:PRESENTED_AT]->(bt:booktitle)\n",
    "  <-[:PRESENTED_AT]-(pr:proceedings)\n",
    "  -[:OF_EDITION]->(ed:ConferenceEdition)\n",
    "  -[:PART_OF]->(c:Conference)\n",
    "WITH \n",
    "  c.name             AS conference,\n",
    "  a.name             AS author,\n",
    "  count(DISTINCT ed) AS editionsCount\n",
    "WHERE editionsCount >= 4\n",
    "RETURN\n",
    "  conference,\n",
    "  author,\n",
    "  editionsCount\n",
    "ORDER BY\n",
    "  conference,\n",
    "  editionsCount DESC,\n",
    "  author;\n"
   ]
  },
  {
   "cell_type": "markdown",
   "id": "9faf8ede",
   "metadata": {},
   "source": [
    "# 3. Impact Factor of journals"
   ]
  },
  {
   "cell_type": "markdown",
   "id": "7508b3b1",
   "metadata": {},
   "source": [
    "Before writing the query, lets recall how the calculation of an impact factor is copmuted. \"In any given year, the two-year journal impact factor is the ratio between the number of citations received in that year for publications in that journal that were published in the two preceding years and the total number of \"citable items\" published in that journal during the two preceding years\"\n",
    "\n",
    "To be able to run this query, we first need to define a target year. To make the query as efficient as possible, we create a parameter that we can later change for another one and re run the query rapidly. The pipeline is as follows: \n",
    "\n",
    "Once we have defined the year and matched all journals, we proceed to first calculate how many papers were published during the two years previous to our target year. Afterwards, we proceed to count the number of citations made **in that year only**, to the articles published in the two previous years. Once we have both numerator and denominator, we can then calculate the result and return in nicely. "
   ]
  },
  {
   "cell_type": "markdown",
   "id": "5e27ecf4",
   "metadata": {},
   "source": [
    "```bash\n",
    "// 1) set the target year\n",
    ":param year => 2024;\n",
    "\n",
    "// 2) compute impact factor per journal\n",
    "MATCH (j:journal)\n",
    "WITH j\n",
    "\n",
    "// Denominator: count of articles the journal published in (year−2) and (year−1)\n",
    "OPTIONAL MATCH (j)<-[:PUBLISHED_IN]-(p:article)\n",
    "WHERE p.year IN [ $year - 2, $year - 1 ]\n",
    "WITH j, count(p) AS numPapers\n",
    "\n",
    "// Numerator: count of citations *made in $year* to those papers\n",
    "OPTIONAL MATCH (j)<-[:PUBLISHED_IN]-(cited:article)<-[:HAS_CITATION]-(citer:article)\n",
    "WHERE cited.year IN [ $year - 2, $year - 1 ]\n",
    "  AND citer.year = $year\n",
    "WITH j, numPapers, count(*) AS numCitations\n",
    "\n",
    "// Final result: impact factor = numCitations / numPapers\n",
    "WHERE numPapers > 0\n",
    "RETURN\n",
    "  j.name                AS journal,\n",
    "  $year                 AS year,\n",
    "  round(toFloat(numCitations) / numPapers, 3) AS impactFactor,\n",
    "  numCitations,\n",
    "  numPapers\n",
    "ORDER BY impactFactor DESC;\n"
   ]
  },
  {
   "cell_type": "markdown",
   "id": "86046a17",
   "metadata": {},
   "source": [
    "# 4. H-Index of authors in the graph"
   ]
  },
  {
   "cell_type": "markdown",
   "id": "6ef83fa8",
   "metadata": {},
   "source": [
    "Recall that the h-index of an author answers to the question “How many of my papers have at least that many citations?” If an authors h-index is 5, it means the author has 5 papers with over 5 citations. \n",
    "\n",
    "To perform this last query, we follow this procedure:\n",
    "\n",
    "We first gather each author's articles and count how many incoming citation citation edges it has. To keep things organized, we collect those counts into a list and order it from highst to lowest, where the paper with the most citations is listed as 1. We do this so that later we can unwind the positions as indexes, and filter only those papers that have a higher citation number than its index (this is the definition of a h-index). To finish off, we get the highest index that passed the filter, via a max(idx). "
   ]
  },
  {
   "cell_type": "markdown",
   "id": "e86983d4",
   "metadata": {},
   "source": [
    "```bash\n",
    "// 1) For every author, get their papers and citation counts\n",
    "MATCH (a:author)<-[:AUTHORED_BY]-(p:article)\n",
    "OPTIONAL MATCH (p)<-[:HAS_CITATION]-(:article)\n",
    "WITH a, p, count(*) AS citations\n",
    "\n",
    "// 2) Collect and sort the counts descending\n",
    "ORDER BY a.name, citations DESC\n",
    "WITH a, collect(citations) AS citationList\n",
    "\n",
    "// 3) Unwind positions 1…N and keep those where citations ≥ position\n",
    "UNWIND range(1, size(citationList)) AS idx\n",
    "WITH a, idx, citationList[idx-1] AS citesAtIdx\n",
    "WHERE citesAtIdx >= idx\n",
    "\n",
    "// 4) The h‑index is the maximum such idx per author\n",
    "RETURN\n",
    "  a.name   AS author,\n",
    "  max(idx) AS hIndex\n",
    "ORDER BY hIndex DESC, author;\n"
   ]
  }
 ],
 "metadata": {
  "language_info": {
   "name": "python"
  }
 },
 "nbformat": 4,
 "nbformat_minor": 5
}
