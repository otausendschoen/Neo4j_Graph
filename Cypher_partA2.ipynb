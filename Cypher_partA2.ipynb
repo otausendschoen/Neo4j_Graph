{
 "cells": [
  {
   "cell_type": "markdown",
   "metadata": {},
   "source": [
    "# A.2 Instatiation/Loading\n",
    "\n",
    "This notebook demonstrates how we parse and load bibliographic data from the [DBLP dataset](https://dblp.org/) for building our knowledge graph. \n",
    "\n",
    "As suggedted in the Assigment, we use the XML version of DBLP, which contains millions of research articles and related entities such as authors, journals, and conferences. This dataset is particularly suited for our assignment, as it provides well-structured information about publications, relationships, and metadata.\n",
    "\n",
    "In this notebook, we preprocess the data into CSVs using the `XMLToCSV.py` parser, annotate the relationships, and validate the results before loading them into Neo4j.\n",
    "\n",
    "Finally, we add missing data manually, following the procedure outlined in the PDF."
   ]
  },
  {
   "cell_type": "markdown",
   "metadata": {},
   "source": [
    "## Install Required Libraries"
   ]
  },
  {
   "cell_type": "markdown",
   "metadata": {},
   "source": [
    "We install requirements below.\n",
    "Note that this does not include the actual tool that we used to extract the XML to hml. This can be found on and https://github.com/ThomHurks/dblp-to-csv.\n",
    "This git repo just has to be cloned within the current working directory along with the XML *and* .DTD file that we want to process."
   ]
  },
  {
   "cell_type": "code",
   "execution_count": null,
   "metadata": {},
   "outputs": [],
   "source": [
    "import pandas as pd\n",
    "!pip install lxml\n",
    "!pip install -r requirements.txt #this file is included with the DBLP parser tool and includes the necessary libraries"
   ]
  },
  {
   "cell_type": "markdown",
   "metadata": {},
   "source": [
    "## Parse the DBLP XML into CSVs"
   ]
  },
  {
   "cell_type": "markdown",
   "metadata": {},
   "source": [
    "After cloning the repo, we can run the parser by running th XMLToCSV.py file. The `--neo4j` flag makes sure the output format is suitable for loading into Neo4j.\n",
    "\n",
    "The `--relations` parameter lets us define custom relationships between XML tags. For example, it could be simple like the following:"
   ]
  },
  {
   "cell_type": "code",
   "execution_count": null,
   "metadata": {},
   "outputs": [
    {
     "name": "stdout",
     "output_type": "stream",
     "text": [
      "Will create relations for attribute(s): author, journal\n",
      "Start!\n",
      "Reading elements from DTD file...\n",
      "Finding unique attributes for all elements...\n",
      "Opening output files...\n",
      "Parsing XML and writing to CSV files...\n",
      "Writing relation files...\n",
      "Writing annotated headers...\n",
      "Generating neo4j-import command...\n",
      "Writing neo4j-import command to shell script file...\n",
      "Done after 896.962561 seconds\n"
     ]
    }
   ],
   "source": [
    "!python XMLToCSV.py --annotate --neo4j dblp.xml dblp.dtd output.csv --relations author:authored_by journal:published_in"
   ]
  },
  {
   "cell_type": "markdown",
   "metadata": {},
   "source": [
    "To get the data as comprehensive as possible, we run the parser with quite some relations. However, not all relations must necessarily be used later since we still have to create a knowledge graph out of it..\n",
    "In essence, we use the --relations parameter by for example linking the XML Tag to the parent tag.\n",
    "For example, \"--realtions author:authored_by\" does the following:\n",
    "\n",
    "When you find an XML field called author, create a relationship from that value (the Author node) to the parent entity (like a Paper) with the name authored_by.”\n"
   ]
  },
  {
   "cell_type": "code",
   "execution_count": null,
   "metadata": {},
   "outputs": [
    {
     "name": "stdout",
     "output_type": "stream",
     "text": [
      "Will create relations for attribute(s): author, booktitle, journal, publisher\n",
      "Start!\n",
      "Reading elements from DTD file...\n",
      "Finding unique attributes for all elements...\n",
      "Opening output files...\n",
      "Parsing XML and writing to CSV files...\n",
      "Writing relation files...\n",
      "Writing annotated headers...\n",
      "Generating neo4j-import command...\n",
      "Writing neo4j-import command to shell script file...\n",
      "Done after 1110.973302 seconds\n"
     ]
    }
   ],
   "source": [
    "!python XMLToCSV.py --annotate --neo4j dblp.xml dblp.dtd dblp.csv \\\n",
    "--relations \\\n",
    "author:authored_by \\\n",
    "booktitle:presented_at \\\n",
    "journal:published_in \\\n",
    "publisher:published_by\n"
   ]
  },
  {
   "cell_type": "markdown",
   "metadata": {},
   "source": [
    "## Load Article CSV for Preliminary Exploration\n",
    "\n",
    "Let's put this into a dataframe to do some preliminary analysis. We will use a filter as we have millions of entries"
   ]
  },
  {
   "cell_type": "code",
   "execution_count": null,
   "metadata": {},
   "outputs": [
    {
     "data": {
      "text/html": [
       "<div>\n",
       "<style scoped>\n",
       "    .dataframe tbody tr th:only-of-type {\n",
       "        vertical-align: middle;\n",
       "    }\n",
       "\n",
       "    .dataframe tbody tr th {\n",
       "        vertical-align: top;\n",
       "    }\n",
       "\n",
       "    .dataframe thead th {\n",
       "        text-align: right;\n",
       "    }\n",
       "</style>\n",
       "<table border=\"1\" class=\"dataframe\">\n",
       "  <thead>\n",
       "    <tr style=\"text-align: right;\">\n",
       "      <th></th>\n",
       "      <th>70072</th>\n",
       "      <th>Kai Schlabitz</th>\n",
       "      <th>Unnamed: 2</th>\n",
       "      <th>Unnamed: 3</th>\n",
       "      <th>Unnamed: 4</th>\n",
       "      <th>Unnamed: 5</th>\n",
       "      <th>Unnamed: 6</th>\n",
       "      <th>Unnamed: 7</th>\n",
       "      <th>Unnamed: 8</th>\n",
       "      <th>Unnamed: 9</th>\n",
       "      <th>...</th>\n",
       "      <th>Unnamed: 26</th>\n",
       "      <th>Unnamed: 27</th>\n",
       "      <th>Unnamed: 28</th>\n",
       "      <th>Unnamed: 29</th>\n",
       "      <th>Auswirkung der Digitalisierung auf die Systemlandschaft der Netzbetreiber.</th>\n",
       "      <th>Unnamed: 31</th>\n",
       "      <th>Unnamed: 32</th>\n",
       "      <th>db/journals/ei/ei136.html#Schlabitz19</th>\n",
       "      <th>136</th>\n",
       "      <th>2019</th>\n",
       "    </tr>\n",
       "  </thead>\n",
       "  <tbody>\n",
       "    <tr>\n",
       "      <th>0</th>\n",
       "      <td>70073</td>\n",
       "      <td>Richard Überbacher|Stefan Cecil</td>\n",
       "      <td>NaN</td>\n",
       "      <td>NaN</td>\n",
       "      <td>NaN</td>\n",
       "      <td>NaN</td>\n",
       "      <td>NaN</td>\n",
       "      <td>NaN</td>\n",
       "      <td>NaN</td>\n",
       "      <td>NaN</td>\n",
       "      <td>...</td>\n",
       "      <td>NaN</td>\n",
       "      <td>NaN</td>\n",
       "      <td>NaN</td>\n",
       "      <td>NaN</td>\n",
       "      <td>EMF-Personenschutz: Neue Aspekte in der numeri...</td>\n",
       "      <td>NaN</td>\n",
       "      <td>NaN</td>\n",
       "      <td>db/journals/ei/ei137.html#UberbacherC20</td>\n",
       "      <td>137</td>\n",
       "      <td>2020.0</td>\n",
       "    </tr>\n",
       "    <tr>\n",
       "      <th>1</th>\n",
       "      <td>70074</td>\n",
       "      <td>Herbert Mang</td>\n",
       "      <td>NaN</td>\n",
       "      <td>NaN</td>\n",
       "      <td>NaN</td>\n",
       "      <td>NaN</td>\n",
       "      <td>NaN</td>\n",
       "      <td>NaN</td>\n",
       "      <td>NaN</td>\n",
       "      <td>NaN</td>\n",
       "      <td>...</td>\n",
       "      <td>NaN</td>\n",
       "      <td>NaN</td>\n",
       "      <td>NaN</td>\n",
       "      <td>NaN</td>\n",
       "      <td>Zur Genesis der Forschungsstelle für Integrier...</td>\n",
       "      <td>NaN</td>\n",
       "      <td>NaN</td>\n",
       "      <td>db/journals/ei/ei139.html#Mang22</td>\n",
       "      <td>139</td>\n",
       "      <td>2022.0</td>\n",
       "    </tr>\n",
       "    <tr>\n",
       "      <th>2</th>\n",
       "      <td>70075</td>\n",
       "      <td>Christian Diendorfer|Gerwin H. S. Drexler-Schm...</td>\n",
       "      <td>NaN</td>\n",
       "      <td>NaN</td>\n",
       "      <td>NaN</td>\n",
       "      <td>NaN</td>\n",
       "      <td>NaN</td>\n",
       "      <td>NaN</td>\n",
       "      <td>NaN</td>\n",
       "      <td>NaN</td>\n",
       "      <td>...</td>\n",
       "      <td>NaN</td>\n",
       "      <td>NaN</td>\n",
       "      <td>NaN</td>\n",
       "      <td>NaN</td>\n",
       "      <td>100 % erneuerbare Energie für Österreichs Indu...</td>\n",
       "      <td>NaN</td>\n",
       "      <td>NaN</td>\n",
       "      <td>db/journals/ei/ei138.html#KnottnerGDD21</td>\n",
       "      <td>138</td>\n",
       "      <td>2021.0</td>\n",
       "    </tr>\n",
       "    <tr>\n",
       "      <th>3</th>\n",
       "      <td>70076</td>\n",
       "      <td>Christoph Reichl|Peter Wimberger</td>\n",
       "      <td>NaN</td>\n",
       "      <td>0000-0002-0010-8586|0000-0002-7120-3425</td>\n",
       "      <td>NaN</td>\n",
       "      <td>NaN</td>\n",
       "      <td>NaN</td>\n",
       "      <td>NaN</td>\n",
       "      <td>NaN</td>\n",
       "      <td>NaN</td>\n",
       "      <td>...</td>\n",
       "      <td>NaN</td>\n",
       "      <td>NaN</td>\n",
       "      <td>NaN</td>\n",
       "      <td>NaN</td>\n",
       "      <td>Application of multilateration for microphone ...</td>\n",
       "      <td>NaN</td>\n",
       "      <td>NaN</td>\n",
       "      <td>db/journals/ei/ei138.html#WimbergerR21</td>\n",
       "      <td>138</td>\n",
       "      <td>2021.0</td>\n",
       "    </tr>\n",
       "    <tr>\n",
       "      <th>4</th>\n",
       "      <td>70077</td>\n",
       "      <td>Christian Paul|Fridolin H. Heidler|Wolfgang Sc...</td>\n",
       "      <td>NaN</td>\n",
       "      <td>0000-0002-3440-5431</td>\n",
       "      <td>NaN</td>\n",
       "      <td>NaN</td>\n",
       "      <td>NaN</td>\n",
       "      <td>NaN</td>\n",
       "      <td>NaN</td>\n",
       "      <td>NaN</td>\n",
       "      <td>...</td>\n",
       "      <td>NaN</td>\n",
       "      <td>NaN</td>\n",
       "      <td>NaN</td>\n",
       "      <td>NaN</td>\n",
       "      <td>Optische Untersuchungen von Blitzeinschlägen i...</td>\n",
       "      <td>NaN</td>\n",
       "      <td>NaN</td>\n",
       "      <td>db/journals/ei/ei139.html#HeidlerPS22</td>\n",
       "      <td>139</td>\n",
       "      <td>2022.0</td>\n",
       "    </tr>\n",
       "  </tbody>\n",
       "</table>\n",
       "<p>5 rows × 36 columns</p>\n",
       "</div>"
      ],
      "text/plain": [
       "   70072                                      Kai Schlabitz Unnamed: 2  \\\n",
       "0  70073                    Richard Überbacher|Stefan Cecil        NaN   \n",
       "1  70074                                       Herbert Mang        NaN   \n",
       "2  70075  Christian Diendorfer|Gerwin H. S. Drexler-Schm...        NaN   \n",
       "3  70076                   Christoph Reichl|Peter Wimberger        NaN   \n",
       "4  70077  Christian Paul|Fridolin H. Heidler|Wolfgang Sc...        NaN   \n",
       "\n",
       "                                Unnamed: 3 Unnamed: 4 Unnamed: 5 Unnamed: 6  \\\n",
       "0                                      NaN        NaN        NaN        NaN   \n",
       "1                                      NaN        NaN        NaN        NaN   \n",
       "2                                      NaN        NaN        NaN        NaN   \n",
       "3  0000-0002-0010-8586|0000-0002-7120-3425        NaN        NaN        NaN   \n",
       "4                      0000-0002-3440-5431        NaN        NaN        NaN   \n",
       "\n",
       "  Unnamed: 7 Unnamed: 8 Unnamed: 9  ... Unnamed: 26 Unnamed: 27 Unnamed: 28  \\\n",
       "0        NaN        NaN        NaN  ...         NaN         NaN         NaN   \n",
       "1        NaN        NaN        NaN  ...         NaN         NaN         NaN   \n",
       "2        NaN        NaN        NaN  ...         NaN         NaN         NaN   \n",
       "3        NaN        NaN        NaN  ...         NaN         NaN         NaN   \n",
       "4        NaN        NaN        NaN  ...         NaN         NaN         NaN   \n",
       "\n",
       "  Unnamed: 29  \\\n",
       "0         NaN   \n",
       "1         NaN   \n",
       "2         NaN   \n",
       "3         NaN   \n",
       "4         NaN   \n",
       "\n",
       "  Auswirkung der Digitalisierung auf die Systemlandschaft der Netzbetreiber.  \\\n",
       "0  EMF-Personenschutz: Neue Aspekte in der numeri...                           \n",
       "1  Zur Genesis der Forschungsstelle für Integrier...                           \n",
       "2  100 % erneuerbare Energie für Österreichs Indu...                           \n",
       "3  Application of multilateration for microphone ...                           \n",
       "4  Optische Untersuchungen von Blitzeinschlägen i...                           \n",
       "\n",
       "  Unnamed: 31 Unnamed: 32    db/journals/ei/ei136.html#Schlabitz19  136  \\\n",
       "0         NaN         NaN  db/journals/ei/ei137.html#UberbacherC20  137   \n",
       "1         NaN         NaN         db/journals/ei/ei139.html#Mang22  139   \n",
       "2         NaN         NaN  db/journals/ei/ei138.html#KnottnerGDD21  138   \n",
       "3         NaN         NaN   db/journals/ei/ei138.html#WimbergerR21  138   \n",
       "4         NaN         NaN    db/journals/ei/ei139.html#HeidlerPS22  139   \n",
       "\n",
       "     2019  \n",
       "0  2020.0  \n",
       "1  2022.0  \n",
       "2  2021.0  \n",
       "3  2021.0  \n",
       "4  2022.0  \n",
       "\n",
       "[5 rows x 36 columns]"
      ]
     },
     "metadata": {},
     "output_type": "display_data"
    }
   ],
   "source": [
    "import pandas as pd\n",
    "\n",
    "df = pd.read_csv(\"dblp_article.csv\", sep=';', engine='python')\n",
    "df.head()\n"
   ]
  },
  {
   "cell_type": "markdown",
   "metadata": {},
   "source": [
    "We firstly notice the following:\n",
    "\n",
    "- There are quite some NaNs\n",
    "- There is no header. This is includer in the _header.csv file\n",
    "- The deliminator is ';' and not ','\n",
    "\n",
    "This is all usefull to know as it is information that is required when importing into the neo4j database."
   ]
  },
  {
   "cell_type": "markdown",
   "metadata": {},
   "source": [
    "## Matching Relationships\n",
    "\n",
    "To ensure the relationships generated by the parser are valid, we check if the node IDs in the `rel_df` (relationship CSV) actually match those in the author and article CSVs.\n",
    "\n",
    "We load:\n",
    "- `dblp_author.csv` — contains author node information\n",
    "- `dblp_article.csv` — contains article node information\n",
    "- `dblp_author_authored_by.csv` — contains edges connecting articles to authors\n",
    "\n",
    "We also use `dblp_article_header.csv` to assign the correct column names"
   ]
  },
  {
   "cell_type": "code",
   "execution_count": null,
   "metadata": {},
   "outputs": [],
   "source": [
    "authors_df = pd.read_csv(\"dblp_author.csv\", sep=\";\", dtype=str)\n",
    "with open(\"dblp_article_header.csv\", \"r\") as f:\n",
    "    header = f.readline().strip().split(\";\")\n",
    "\n",
    "# Load the article data with those column names\n",
    "articles_df = pd.read_csv(\"dblp_article.csv\", sep=\";\", names=header, dtype=str)\n",
    "rel_df = pd.read_csv(\"dblp_author_authored_by.csv\", sep=\";\", dtype=str)"
   ]
  },
  {
   "cell_type": "code",
   "execution_count": null,
   "metadata": {},
   "outputs": [
    {
     "data": {
      "text/html": [
       "<div>\n",
       "<style scoped>\n",
       "    .dataframe tbody tr th:only-of-type {\n",
       "        vertical-align: middle;\n",
       "    }\n",
       "\n",
       "    .dataframe tbody tr th {\n",
       "        vertical-align: top;\n",
       "    }\n",
       "\n",
       "    .dataframe thead th {\n",
       "        text-align: right;\n",
       "    }\n",
       "</style>\n",
       "<table border=\"1\" class=\"dataframe\">\n",
       "  <thead>\n",
       "    <tr style=\"text-align: right;\">\n",
       "      <th></th>\n",
       "      <th>:ID</th>\n",
       "      <th>author:string</th>\n",
       "    </tr>\n",
       "  </thead>\n",
       "  <tbody>\n",
       "    <tr>\n",
       "      <th>0</th>\n",
       "      <td>11554227</td>\n",
       "      <td>Arnon Rosenthal</td>\n",
       "    </tr>\n",
       "    <tr>\n",
       "      <th>1</th>\n",
       "      <td>11554228</td>\n",
       "      <td>Robin Cover</td>\n",
       "    </tr>\n",
       "    <tr>\n",
       "      <th>2</th>\n",
       "      <td>11554229</td>\n",
       "      <td>Alin Deutsch</td>\n",
       "    </tr>\n",
       "    <tr>\n",
       "      <th>3</th>\n",
       "      <td>11554230</td>\n",
       "      <td>Mary F. Fernandez</td>\n",
       "    </tr>\n",
       "    <tr>\n",
       "      <th>4</th>\n",
       "      <td>11554231</td>\n",
       "      <td>Daniela Florescu</td>\n",
       "    </tr>\n",
       "  </tbody>\n",
       "</table>\n",
       "</div>"
      ],
      "text/plain": [
       "        :ID      author:string\n",
       "0  11554227    Arnon Rosenthal\n",
       "1  11554228        Robin Cover\n",
       "2  11554229       Alin Deutsch\n",
       "3  11554230  Mary F. Fernandez\n",
       "4  11554231   Daniela Florescu"
      ]
     },
     "metadata": {},
     "output_type": "display_data"
    }
   ],
   "source": [
    "authors_df.head()"
   ]
  },
  {
   "cell_type": "code",
   "execution_count": null,
   "metadata": {},
   "outputs": [
    {
     "data": {
      "text/html": [
       "<div>\n",
       "<style scoped>\n",
       "    .dataframe tbody tr th:only-of-type {\n",
       "        vertical-align: middle;\n",
       "    }\n",
       "\n",
       "    .dataframe tbody tr th {\n",
       "        vertical-align: top;\n",
       "    }\n",
       "\n",
       "    .dataframe thead th {\n",
       "        text-align: right;\n",
       "    }\n",
       "</style>\n",
       "<table border=\"1\" class=\"dataframe\">\n",
       "  <thead>\n",
       "    <tr style=\"text-align: right;\">\n",
       "      <th></th>\n",
       "      <th>:START_ID</th>\n",
       "      <th>:END_ID</th>\n",
       "    </tr>\n",
       "  </thead>\n",
       "  <tbody>\n",
       "    <tr>\n",
       "      <th>0</th>\n",
       "      <td>1</td>\n",
       "      <td>11554227</td>\n",
       "    </tr>\n",
       "    <tr>\n",
       "      <th>1</th>\n",
       "      <td>3759619</td>\n",
       "      <td>11554227</td>\n",
       "    </tr>\n",
       "    <tr>\n",
       "      <th>2</th>\n",
       "      <td>8015887</td>\n",
       "      <td>11554227</td>\n",
       "    </tr>\n",
       "    <tr>\n",
       "      <th>3</th>\n",
       "      <td>9799700</td>\n",
       "      <td>11554227</td>\n",
       "    </tr>\n",
       "    <tr>\n",
       "      <th>4</th>\n",
       "      <td>7812123</td>\n",
       "      <td>11554227</td>\n",
       "    </tr>\n",
       "  </tbody>\n",
       "</table>\n",
       "</div>"
      ],
      "text/plain": [
       "  :START_ID   :END_ID\n",
       "0         1  11554227\n",
       "1   3759619  11554227\n",
       "2   8015887  11554227\n",
       "3   9799700  11554227\n",
       "4   7812123  11554227"
      ]
     },
     "metadata": {},
     "output_type": "display_data"
    }
   ],
   "source": [
    "rel_df.head()"
   ]
  },
  {
   "cell_type": "code",
   "execution_count": null,
   "metadata": {},
   "outputs": [
    {
     "data": {
      "text/html": [
       "<div>\n",
       "<style scoped>\n",
       "    .dataframe tbody tr th:only-of-type {\n",
       "        vertical-align: middle;\n",
       "    }\n",
       "\n",
       "    .dataframe tbody tr th {\n",
       "        vertical-align: top;\n",
       "    }\n",
       "\n",
       "    .dataframe thead th {\n",
       "        text-align: right;\n",
       "    }\n",
       "</style>\n",
       "<table border=\"1\" class=\"dataframe\">\n",
       "  <thead>\n",
       "    <tr style=\"text-align: right;\">\n",
       "      <th></th>\n",
       "      <th>article:ID</th>\n",
       "      <th>author:string[]</th>\n",
       "      <th>author-aux:string</th>\n",
       "      <th>author-orcid:string[]</th>\n",
       "      <th>booktitle:string</th>\n",
       "      <th>cdate:date</th>\n",
       "      <th>cdrom:string</th>\n",
       "      <th>cite:string[]</th>\n",
       "      <th>cite-label:string[]</th>\n",
       "      <th>crossref:string</th>\n",
       "      <th>...</th>\n",
       "      <th>publtype:string</th>\n",
       "      <th>stream:string</th>\n",
       "      <th>sub:string[]</th>\n",
       "      <th>sup:string[]</th>\n",
       "      <th>title:string</th>\n",
       "      <th>title-bibtex:string</th>\n",
       "      <th>tt:string[]</th>\n",
       "      <th>url:string[]</th>\n",
       "      <th>volume:string</th>\n",
       "      <th>year:int</th>\n",
       "    </tr>\n",
       "  </thead>\n",
       "  <tbody>\n",
       "    <tr>\n",
       "      <th>0</th>\n",
       "      <td>70072</td>\n",
       "      <td>Kai Schlabitz</td>\n",
       "      <td>NaN</td>\n",
       "      <td>NaN</td>\n",
       "      <td>NaN</td>\n",
       "      <td>NaN</td>\n",
       "      <td>NaN</td>\n",
       "      <td>NaN</td>\n",
       "      <td>NaN</td>\n",
       "      <td>NaN</td>\n",
       "      <td>...</td>\n",
       "      <td>NaN</td>\n",
       "      <td>NaN</td>\n",
       "      <td>NaN</td>\n",
       "      <td>NaN</td>\n",
       "      <td>Auswirkung der Digitalisierung auf die Systeml...</td>\n",
       "      <td>NaN</td>\n",
       "      <td>NaN</td>\n",
       "      <td>db/journals/ei/ei136.html#Schlabitz19</td>\n",
       "      <td>136</td>\n",
       "      <td>2019</td>\n",
       "    </tr>\n",
       "    <tr>\n",
       "      <th>1</th>\n",
       "      <td>70073</td>\n",
       "      <td>Richard Überbacher|Stefan Cecil</td>\n",
       "      <td>NaN</td>\n",
       "      <td>NaN</td>\n",
       "      <td>NaN</td>\n",
       "      <td>NaN</td>\n",
       "      <td>NaN</td>\n",
       "      <td>NaN</td>\n",
       "      <td>NaN</td>\n",
       "      <td>NaN</td>\n",
       "      <td>...</td>\n",
       "      <td>NaN</td>\n",
       "      <td>NaN</td>\n",
       "      <td>NaN</td>\n",
       "      <td>NaN</td>\n",
       "      <td>EMF-Personenschutz: Neue Aspekte in der numeri...</td>\n",
       "      <td>NaN</td>\n",
       "      <td>NaN</td>\n",
       "      <td>db/journals/ei/ei137.html#UberbacherC20</td>\n",
       "      <td>137</td>\n",
       "      <td>2020</td>\n",
       "    </tr>\n",
       "    <tr>\n",
       "      <th>2</th>\n",
       "      <td>70074</td>\n",
       "      <td>Herbert Mang</td>\n",
       "      <td>NaN</td>\n",
       "      <td>NaN</td>\n",
       "      <td>NaN</td>\n",
       "      <td>NaN</td>\n",
       "      <td>NaN</td>\n",
       "      <td>NaN</td>\n",
       "      <td>NaN</td>\n",
       "      <td>NaN</td>\n",
       "      <td>...</td>\n",
       "      <td>NaN</td>\n",
       "      <td>NaN</td>\n",
       "      <td>NaN</td>\n",
       "      <td>NaN</td>\n",
       "      <td>Zur Genesis der Forschungsstelle für Integrier...</td>\n",
       "      <td>NaN</td>\n",
       "      <td>NaN</td>\n",
       "      <td>db/journals/ei/ei139.html#Mang22</td>\n",
       "      <td>139</td>\n",
       "      <td>2022</td>\n",
       "    </tr>\n",
       "    <tr>\n",
       "      <th>3</th>\n",
       "      <td>70075</td>\n",
       "      <td>Christian Diendorfer|Gerwin H. S. Drexler-Schm...</td>\n",
       "      <td>NaN</td>\n",
       "      <td>NaN</td>\n",
       "      <td>NaN</td>\n",
       "      <td>NaN</td>\n",
       "      <td>NaN</td>\n",
       "      <td>NaN</td>\n",
       "      <td>NaN</td>\n",
       "      <td>NaN</td>\n",
       "      <td>...</td>\n",
       "      <td>NaN</td>\n",
       "      <td>NaN</td>\n",
       "      <td>NaN</td>\n",
       "      <td>NaN</td>\n",
       "      <td>100 % erneuerbare Energie für Österreichs Indu...</td>\n",
       "      <td>NaN</td>\n",
       "      <td>NaN</td>\n",
       "      <td>db/journals/ei/ei138.html#KnottnerGDD21</td>\n",
       "      <td>138</td>\n",
       "      <td>2021</td>\n",
       "    </tr>\n",
       "    <tr>\n",
       "      <th>4</th>\n",
       "      <td>70076</td>\n",
       "      <td>Christoph Reichl|Peter Wimberger</td>\n",
       "      <td>NaN</td>\n",
       "      <td>0000-0002-0010-8586|0000-0002-7120-3425</td>\n",
       "      <td>NaN</td>\n",
       "      <td>NaN</td>\n",
       "      <td>NaN</td>\n",
       "      <td>NaN</td>\n",
       "      <td>NaN</td>\n",
       "      <td>NaN</td>\n",
       "      <td>...</td>\n",
       "      <td>NaN</td>\n",
       "      <td>NaN</td>\n",
       "      <td>NaN</td>\n",
       "      <td>NaN</td>\n",
       "      <td>Application of multilateration for microphone ...</td>\n",
       "      <td>NaN</td>\n",
       "      <td>NaN</td>\n",
       "      <td>db/journals/ei/ei138.html#WimbergerR21</td>\n",
       "      <td>138</td>\n",
       "      <td>2021</td>\n",
       "    </tr>\n",
       "  </tbody>\n",
       "</table>\n",
       "<p>5 rows × 36 columns</p>\n",
       "</div>"
      ],
      "text/plain": [
       "  article:ID                                    author:string[]  \\\n",
       "0      70072                                      Kai Schlabitz   \n",
       "1      70073                    Richard Überbacher|Stefan Cecil   \n",
       "2      70074                                       Herbert Mang   \n",
       "3      70075  Christian Diendorfer|Gerwin H. S. Drexler-Schm...   \n",
       "4      70076                   Christoph Reichl|Peter Wimberger   \n",
       "\n",
       "  author-aux:string                    author-orcid:string[] booktitle:string  \\\n",
       "0               NaN                                      NaN              NaN   \n",
       "1               NaN                                      NaN              NaN   \n",
       "2               NaN                                      NaN              NaN   \n",
       "3               NaN                                      NaN              NaN   \n",
       "4               NaN  0000-0002-0010-8586|0000-0002-7120-3425              NaN   \n",
       "\n",
       "  cdate:date cdrom:string cite:string[] cite-label:string[] crossref:string  \\\n",
       "0        NaN          NaN           NaN                 NaN             NaN   \n",
       "1        NaN          NaN           NaN                 NaN             NaN   \n",
       "2        NaN          NaN           NaN                 NaN             NaN   \n",
       "3        NaN          NaN           NaN                 NaN             NaN   \n",
       "4        NaN          NaN           NaN                 NaN             NaN   \n",
       "\n",
       "   ... publtype:string stream:string sub:string[] sup:string[]  \\\n",
       "0  ...             NaN           NaN          NaN          NaN   \n",
       "1  ...             NaN           NaN          NaN          NaN   \n",
       "2  ...             NaN           NaN          NaN          NaN   \n",
       "3  ...             NaN           NaN          NaN          NaN   \n",
       "4  ...             NaN           NaN          NaN          NaN   \n",
       "\n",
       "                                        title:string title-bibtex:string  \\\n",
       "0  Auswirkung der Digitalisierung auf die Systeml...                 NaN   \n",
       "1  EMF-Personenschutz: Neue Aspekte in der numeri...                 NaN   \n",
       "2  Zur Genesis der Forschungsstelle für Integrier...                 NaN   \n",
       "3  100 % erneuerbare Energie für Österreichs Indu...                 NaN   \n",
       "4  Application of multilateration for microphone ...                 NaN   \n",
       "\n",
       "  tt:string[]                             url:string[] volume:string year:int  \n",
       "0         NaN    db/journals/ei/ei136.html#Schlabitz19           136     2019  \n",
       "1         NaN  db/journals/ei/ei137.html#UberbacherC20           137     2020  \n",
       "2         NaN         db/journals/ei/ei139.html#Mang22           139     2022  \n",
       "3         NaN  db/journals/ei/ei138.html#KnottnerGDD21           138     2021  \n",
       "4         NaN   db/journals/ei/ei138.html#WimbergerR21           138     2021  \n",
       "\n",
       "[5 rows x 36 columns]"
      ]
     },
     "metadata": {},
     "output_type": "display_data"
    }
   ],
   "source": [
    "articles_df.head()"
   ]
  },
  {
   "cell_type": "markdown",
   "metadata": {},
   "source": [
    "## Validate ID Matching Between Nodes and Relationships\n",
    "\n",
    "We now check how many of the relationship IDs exist in the node tables. This ensures that both `:START_ID` (paper) and `:END_ID` (author) point to actual existing nodes.\n"
   ]
  },
  {
   "cell_type": "code",
   "execution_count": null,
   "metadata": {},
   "outputs": [
    {
     "name": "stdout",
     "output_type": "stream",
     "text": [
      "START_ID match: 0\n",
      "END_ID match: 0\n",
      "START_ID match: 13080262\n",
      "END_ID match: 29763959\n"
     ]
    }
   ],
   "source": [
    "\n",
    "# Check overlap\n",
    "print(\"START_ID match:\", rel_df[\":START_ID\"].isin(authors_df[\":ID\"]).sum())\n",
    "print(\"END_ID match:\", rel_df[\":END_ID\"].isin(articles_df[\"article:ID\"]).sum())\n",
    "\n",
    "# Check overlap\n",
    "print(\"START_ID match:\", rel_df[\":START_ID\"].isin(articles_df[\"article:ID\"]).sum())\n",
    "print(\"END_ID match:\", rel_df[\":END_ID\"].isin(authors_df[\":ID\"]).sum())\n"
   ]
  },
  {
   "cell_type": "markdown",
   "metadata": {},
   "source": [
    "## Cleaning the cite Relationships\n",
    "\n",
    "The raw `cite` relationships extracted from DBLP often apparently contained malformed data. Importing it always gave us an error, so we clean the `dblp_cite_has_citation.csv` file:\n",
    "\n",
    "We'll remove any rows with missing IDs or references to unknown article IDs.\n",
    "\n",
    "This yields: `dblp_cite_has_citation_cleaned.csv` which will be used during the import.\n"
   ]
  },
  {
   "cell_type": "code",
   "execution_count": null,
   "metadata": {},
   "outputs": [
    {
     "name": "stdout",
     "output_type": "stream",
     "text": [
      "Cleaned cite relations saved: 0 rows\n"
     ]
    }
   ],
   "source": [
    "import pandas as pd\n",
    "# Load original citation relationships\n",
    "cite_df = pd.read_csv(\"dblp_cite_has_citation.csv\", sep=\";\", dtype=str)\n",
    "\n",
    "# Drop rows with missing START or END IDs\n",
    "cite_df = cite_df.dropna(subset=[\":START_ID\", \":END_ID\"])\n",
    "\n",
    "# Optionally, check if cited articles exist in your article dataset\n",
    "with open(\"dblp_article_header.csv\", \"r\") as f:\n",
    "    header = f.readline().strip().split(\";\")\n",
    "\n",
    "\n",
    "valid_articles = set(pd.read_csv(\"dblp_article.csv\", sep=\";\", names=header, dtype=str)[\"article:ID\"])\n",
    "cite_df = cite_df[cite_df[\":START_ID\"].isin(valid_articles) & cite_df[\":END_ID\"].isin(valid_articles)]\n",
    "\n",
    "# Save cleaned version\n",
    "cite_df.to_csv(\"dblp_cite_has_citation_cleaned.csv\", sep=\";\", index=False)\n",
    "\n",
    "print(f\"Cleaned cite relations saved: {cite_df.shape[0]} rows\")\n"
   ]
  },
  {
   "cell_type": "markdown",
   "metadata": {},
   "source": [
    "Note that this dataset will be filtered to 0 rows, meaning there will not be any actuall data therer. We can thus disregard has citation when importing. We will add them later manually"
   ]
  },
  {
   "cell_type": "markdown",
   "metadata": {},
   "source": [
    "## Bulk Import into Neo4j\n",
    "\n",
    "Once the CSVs are ready, we load the data into Neo4j using the `neo4j-admin database import` tool.\n",
    "\n",
    "We did this the following way:\n",
    "\n",
    "1. Stop the running Neo4j server (if it's running).\n",
    "2. Move all CSV files into the `import` directory inside the Neo4j folder.\n",
    "3. Run the following command from the root of your Neo4j installation folder.\n",
    "\n",
    "This command creates a new database using all the parsed CSVs from the DBLP dataset and sets up the nodes and relationships correctly.\n"
   ]
  },
  {
   "cell_type": "markdown",
   "metadata": {},
   "source": [
    "```bash\n",
    "./bin/neo4j-admin database import full \\\n",
    "  --delimiter=\";\" \\\n",
    "  --array-delimiter=\"|\" \\\n",
    "  --id-type=string \\\n",
    "  --overwrite-destination=true \\\n",
    "  --verbose \\\n",
    "  --skip-bad-relationships=true \\\n",
    "  --bad-tolerance=3500 \\\n",
    "  --nodes=article=import/dblp_article_header.csv,import/dblp_article.csv \\\n",
    "  --nodes=mastersthesis=import/dblp_mastersthesis_header.csv,import/dblp_mastersthesis.csv \\\n",
    "  --nodes=phdthesis=import/dblp_phdthesis_header.csv,import/dblp_phdthesis.csv \\\n",
    "  --nodes=proceedings=import/dblp_proceedings_header.csv,import/dblp_proceedings.csv \\\n",
    "  --nodes=www=import/dblp_www_header.csv,import/dblp_www.csv \\\n",
    "  --nodes=incollection=import/dblp_incollection_header.csv,import/dblp_incollection.csv \\\n",
    "  --nodes=book=import/dblp_book_header.csv,import/dblp_book.csv \\\n",
    "  --nodes=data=import/dblp_data_header.csv,import/dblp_data.csv \\\n",
    "  --nodes=inproceedings=import/dblp_inproceedings_header.csv,import/dblp_inproceedings.csv \\\n",
    "  --nodes=author=import/dblp_author.csv \\\n",
    "  --relationships=authored_by=import/dblp_author_authored_by.csv \\\n",
    "  --nodes=booktitle=import/dblp_booktitle.csv \\\n",
    "  --relationships=presented_at=import/dblp_booktitle_presented_at.csv \\\n",
    "  --nodes=journal=import/dblp_journal.csv \\\n",
    "  --relationships=published_in=import/dblp_journal_published_in.csv \\\n",
    "  --nodes=publisher=import/dblp_publisher.csv \\\n",
    "  --relationships=published_by=import/dblp_publisher_published_by.csv\n",
    "\n"
   ]
  },
  {
   "cell_type": "markdown",
   "metadata": {},
   "source": [
    "This will give us a graph like the following. Note that **article, phdthesis, incollection, mastersthesis, book, inproceeding** are all kinds of papers as described in the pdf report. We could not filter for only articles so we decided to include all and model it as paper in the conceptual model!"
   ]
  },
  {
   "cell_type": "code",
   "execution_count": null,
   "metadata": {},
   "outputs": [
    {
     "data": {
      "text/html": [
       "\n",
       "    <div style=\"background-color: white; padding: 10px; display: inline-block; border: 1px solid #ddd; border-radius: 8px;\">\n",
       "      <img src=\"graph.png\" alt=\"Graph\" />\n",
       "    </div>\n",
       "    "
      ],
      "text/plain": [
       "<IPython.core.display.HTML object>"
      ]
     },
     "execution_count": 3,
     "metadata": {},
     "output_type": "execute_result"
    }
   ],
   "source": [
    "from IPython.display import HTML\n",
    "def display_image_with_white_background(img_path): #this function avoids bad looking images and caching problems when using html in jupyter notebook\n",
    "    html = f\"\"\"\n",
    "    <div style=\"background-color: white; padding: 10px; display: inline-block; border: 1px solid #ddd; border-radius: 8px;\">\n",
    "      <img src=\"{img_path}\" alt=\"Graph\" />\n",
    "    </div>\n",
    "    \"\"\"\n",
    "    return HTML(html)\n",
    "\n",
    "display_image_with_white_background(\"graph.png\")"
   ]
  },
  {
   "cell_type": "markdown",
   "metadata": {},
   "source": [
    "Furthermore, it was impossible for us to remove the www node so we decided to just hide it when displaying the schema. Including the www would lead to what we have below.\n",
    "Other than that specific node, we can notice that it looks very similiar to what we have in our comceptual graph as seen in the report.\n",
    "Summarizing the different kinds of paper, we have something like:\n"
   ]
  },
  {
   "cell_type": "code",
   "execution_count": 4,
   "metadata": {},
   "outputs": [
    {
     "data": {
      "text/html": [
       "\n",
       "    <div style=\"background-color: white; padding: 10px; display: inline-block; border: 1px solid #ddd; border-radius: 8px;\">\n",
       "      <img src=\"graph2.png\" alt=\"Graph\" />\n",
       "    </div>\n",
       "    "
      ],
      "text/plain": [
       "<IPython.core.display.HTML object>"
      ]
     },
     "execution_count": 4,
     "metadata": {},
     "output_type": "execute_result"
    }
   ],
   "source": [
    "\n",
    "display_image_with_white_background(\"graph2.png\")"
   ]
  },
  {
   "cell_type": "markdown",
   "metadata": {},
   "source": [
    "## Inserting Data Manually"
   ]
  },
  {
   "cell_type": "markdown",
   "metadata": {},
   "source": [
    "To adress the missing gaps and to full address the requirement in the assigment, we used these Cypher queries to add the missing data:\n"
   ]
  },
  {
   "cell_type": "markdown",
   "metadata": {},
   "source": [
    "### Abstract"
   ]
  },
  {
   "cell_type": "markdown",
   "metadata": {},
   "source": [
    "```bash\n",
    "UNWIND [\n",
    "  {\n",
    "    key: \"journals/ral/AhnSD18\",\n",
    "    abstract: \"This editorial introduces recent trends in autonomous agricultural robotics, summarizing technological advancements that enable precision farming and environmental sustainability.\"\n",
    "  },\n",
    "  {\n",
    "    key: \"journals/ral/YoonJPGSSMC25\",\n",
    "    abstract: \"We propose a three-finger adaptive gripper with integrated suction cups that enhances grasping capability for objects with varying surfaces, enabling robust manipulation in unstructured environments.\"\n",
    "  },\n",
    "  {\n",
    "    key: \"journals/ral/RoferBBVB22\",\n",
    "    abstract: \"This paper introduces Kineverse, a symbolic articulation framework that supports model-agnostic planning for mobile manipulation, enabling flexible robot behavior across diverse platforms.\"\n",
    "  },\n",
    "  {\n",
    "    key: \"journals/ral/ZhangYTXW22a\",\n",
    "    abstract: \"This note provides corrections to the MR-TopoMap system for multi-robot exploration, addressing previous limitations and improving navigation efficiency in communication-restricted environments.\"\n",
    "  },\n",
    "  {\n",
    "    key: \"journals/ral/LiuJZM23\",\n",
    "    abstract: \"We introduce a collision-free motion generation framework using stochastic optimization combined with signed distance field networks for articulated robot path planning in complex scenarios.\"\n",
    "  },\n",
    "  {\n",
    "    key: \"journals/ral/IshiMI20\",\n",
    "    abstract: \"This study examines how android robots can convey social attitudes like politeness and friendliness through variations in pointing gestures, contributing to more natural human-robot interactions.\"\n",
    "  },\n",
    "  {\n",
    "    key: \"journals/ral/LiZLWCTL24\",\n",
    "    abstract: \"DBPF is a novel framework for dynamic bin-picking that improves robotic perception and grasping efficiency in real-time environments through adaptive planning and robust object detection.\"\n",
    "  },\n",
    "  {\n",
    "    key: \"journals/ral/SaxenaGJ24\",\n",
    "    abstract: \"We present a reward shaping strategy using funnel functions to guide reinforcement learning agents in satisfying Signal Temporal Logic specifications during complex robotic tasks.\"\n",
    "  },\n",
    "  {\n",
    "    key: \"journals/ral/KimKP19\",\n",
    "    abstract: \"A soft-actuated tripod robot is introduced, utilizing membrane vibration actuators for locomotion, offering a simple yet effective design for mobile platforms with minimal components.\"\n",
    "  },\n",
    "  {\n",
    "    key: \"journals/ral/FariasMSB21\",\n",
    "    abstract: \"This paper presents a method for simultaneous tactile exploration and grasp refinement, enabling robots to improve manipulation strategies through continuous sensor feedback on unknown objects.\"\n",
    "  }\n",
    "] AS row\n",
    "MATCH (a:article {key: row.key})\n",
    "SET a.abstract = row.abstract;\n"
   ]
  },
  {
   "cell_type": "markdown",
   "metadata": {},
   "source": [
    "### City and Edition\n",
    "\n",
    "We manually add to selected proceedings nodes:  location (city) and edition number (edition):"
   ]
  },
  {
   "cell_type": "markdown",
   "metadata": {},
   "source": [
    "```bash\n",
    "\n",
    "UNWIND [\n",
    "  {key: \"conf/stacs/1990\", city: \"Rouen\", edition: \"7\"},\n",
    "  {key: \"conf/icml/2005\", city: \"Bonn\", edition: \"22\"},\n",
    "  {key: \"conf/kdd/2011\", city: \"San Diego\", edition: \"17\"}\n",
    "] AS confData\n",
    "MATCH (p:proceedings {key: confData.key})\n",
    "SET p.city = confData.city,\n",
    "    p.edition = confData.edition\n",
    "RETURN p.key, p.city, p.edition;"
   ]
  },
  {
   "cell_type": "markdown",
   "metadata": {},
   "source": [
    "### Keywords\n",
    "\n",
    "This adds information to papers through a new Keyword node and the HAS_KEYWORD relationship."
   ]
  },
  {
   "cell_type": "markdown",
   "metadata": {},
   "source": [
    "```bash\n",
    "UNWIND [\n",
    "  {paperKey: \"journals/pr/NaseemTB12\", keyword: \"face recognition\"},\n",
    "  {paperKey: \"journals/pr/NaseemTB12\", keyword: \"robust regression\"},\n",
    "  {paperKey: \"journals/pr/NaseemTB12\", keyword: \"pattern recognition\"},\n",
    "  {paperKey: \"conf/icml/2005/SomeAuthor\", keyword: \"machine learning\"}\n",
    "] AS kwData\n",
    "\n",
    "MATCH (p {key: kwData.paperKey})\n",
    "MERGE (k:Keyword {text: kwData.keyword})\n",
    "MERGE (p)-[:HAS_KEYWORD]->(k);\n",
    "\n"
   ]
  },
  {
   "cell_type": "markdown",
   "metadata": {},
   "source": [
    "\n",
    "```bash\n",
    "\n",
    "MATCH (a:article)-[h:HAS_KEYWORD]-(k:Keyword) RETURN a, h, k\n"
   ]
  },
  {
   "cell_type": "markdown",
   "metadata": {},
   "source": [
    "### Citation\n",
    "\n",
    "We manually create citaiton links has the included has_citation did not work"
   ]
  },
  {
   "cell_type": "markdown",
   "metadata": {},
   "source": [
    "\n",
    "```bash\n",
    "UNWIND [\n",
    "  {source: \"journals/pr/NaseemTB12\", target: \"journals/ml/Bishop06\"},\n",
    "  {source: \"journals/pr/NaseemTB12\", target: \"journals/pr/ChenB99\"},\n",
    "  {source: \"journals/pr/NaseemTB12\", target: \"journals/pr/HuangJZ08\"},\n",
    "  // HanY10b is cited in three others\n",
    "\n",
    "  {source: \"journals/jicce/HanY10b\", target: \"journals/jicce/Lim11b\"},\n",
    "  {source: \"journals/jicce/HanY10b\", target: \"journals/jicce/Kim09g\"},\n",
    "  {source: \"journals/jicce/HanY10b\", target: \"journals/jicce/PhamMLY08\"},\n",
    "   // Lim11b is cited in two others\n",
    "\n",
    "  {source: \"journals/jicce/Lim11b\", target: \"journals/jicce/Oh12\"},\n",
    "  {source: \"journals/jicce/Lim11b\", target: \"journals/jicce/Kim09g\"},\n",
    "   // KimYS04 is cited in one other\n",
    "\n",
    "  {source: \"journals/jicce/KimYS04\", target: \"journals/jicce/LeeKLK10\"}\n",
    "] AS row\n",
    "MERGE (src:article {key: row.source})\n",
    "MERGE (tgt:article {key: row.target})\n",
    "MERGE (src)-[:HAS_CITATION]->(tgt);\n"
   ]
  },
  {
   "cell_type": "markdown",
   "metadata": {},
   "source": [
    "```bash\n",
    "MATCH (a)-[r:HAS_CITATION]->(b)\n",
    "RETURN a.title AS citing, type(r) AS relation, b.title AS cited\n",
    "LIMIT 10;"
   ]
  },
  {
   "cell_type": "markdown",
   "metadata": {},
   "source": [
    "### Reviewed by\n",
    "\n",
    "We create a custom relationship REVIEWED_BY between articles and authors who reviewed them:"
   ]
  },
  {
   "cell_type": "markdown",
   "metadata": {},
   "source": [
    "\n",
    "```bash\n",
    "\n",
    "UNWIND [\n",
    "  {paperKey: \"journals/pr/NaseemTB12\", reviewerName: \"Guangyi Chen 0001\"},\n",
    "  {paperKey: \"journals/pr/NaseemTB12\", reviewerName: \"Anil K. Jain 0001\"},\n",
    "  {paperKey: \"journals/pr/JainGC02\", reviewerName: \"Roberto Togneri\"},\n",
    "  {paperKey: \"journals/pr/JainGC02\", reviewerName: \"Imran Naseem\"},\n",
    "  {paperKey: \"journals/pr/ChenB99\", reviewerName: \"David Zhang 0001\"}\n",
    "] AS reviewData\n",
    "\n",
    "MATCH (p:article {key: reviewData.paperKey})\n",
    "MATCH (a:author {author: reviewData.reviewerName})\n",
    "MERGE (p)-[:REVIEWED_BY]->(a);\n"
   ]
  },
  {
   "cell_type": "markdown",
   "metadata": {},
   "source": [
    "```bash\n",
    "\n",
    "MATCH (a:article)-[r:REVIEWED_BY]-(p:author) RETURN a, r, p"
   ]
  },
  {
   "cell_type": "markdown",
   "metadata": {},
   "source": [
    "### Conference Edition"
   ]
  },
  {
   "cell_type": "markdown",
   "metadata": {},
   "source": [
    "```bash\n",
    "CREATE (ce:ConferenceEdition {name: 'Fifth Workshop on Computer Architecture for Non-Numeric Processing', year: 1980,month:'April',  venue: 'Pacific Grove', editionID:\"conf/sigmod/80nnp\"})\n",
    "\n",
    "CREATE (c:Conference {  name: 'Computer Architecture'})\n"
   ]
  },
  {
   "cell_type": "markdown",
   "metadata": {},
   "source": [
    "```` bash\n",
    "CREATE CONSTRAINT ON (ce:ConferenceEdition)\n",
    "ASSERT ce.editionID IS UNIQUE;"
   ]
  },
  {
   "cell_type": "markdown",
   "metadata": {},
   "source": [
    "```bash\n",
    "match (ce:ConferenceEdition {editionID:\"conf/sigmod/80nnp\"})\n",
    "match (c:Conference {name:\"Computer Architecture\"})\n",
    "merge (ce)-[:part_of] ->(c)"
   ]
  },
  {
   "cell_type": "markdown",
   "metadata": {},
   "source": [
    "``` BASH\n",
    "MATCH (ce:ConferenceEdition {editionID:\"conf/sigmod/80nnp\"})\n",
    "MATCH (p:proceedings {key:\"conf/sigmod/80nnp\"})\n",
    "MERGE (p)-[:of_edition] ->(ce)"
   ]
  },
  {
   "cell_type": "markdown",
   "metadata": {},
   "source": [
    "### Additional Data for Queries\n",
    "\n",
    "To get meaningful results in the queries of the next tasks, we add some more artificial data. This is done in such a way that everything is connected, creating richly connected subgraph for those articles, enabling queries like:\n",
    "\n",
    "    “What articles were presented at the 1980 SIGMOD conference?”\n",
    "\n",
    "    “Which city hosted edition X of conference Y?”\n",
    "\n",
    "    “What is the h-index of authors who presented papers at SIGMOD 1980?”"
   ]
  },
  {
   "cell_type": "markdown",
   "metadata": {},
   "source": [
    "\n",
    "``` BASH\n",
    "\n",
    "UNWIND [\n",
    "  {articleKey:\"journals/jicce/HanY10b\"},\n",
    "  {articleKey:\"journals/jicce/Lim11b\"},\n",
    "  {articleKey:\"journals/jicce/KimYS04\"}\n",
    "] AS row\n",
    "\n",
    "// 1) Find the article, proceedings, edition and conference\n",
    "MATCH (a:article {key: row.articleKey})\n",
    "MATCH (pr:proceedings {key: \"conf/sigmod/80nnp\"})\n",
    "MATCH (ed:ConferenceEdition {editionID: \"conf/sigmod/80nnp\"})\n",
    "MATCH (c:Conference {name: \"Computer Architecture\"})\n",
    "\n",
    "// 2) Create or find a single booktitle for this edition\n",
    "MERGE (bt:booktitle {\n",
    "  title: \"SIGMOD 1980 Proceedings\"    // label it however makes sense\n",
    "})\n",
    "\n",
    "// 3) Link everything up\n",
    "MERGE (a)-[:PRESENTED_AT]->(bt)\n",
    "MERGE (pr)-[:PRESENTED_AT]->(bt)\n",
    "MERGE (bt)-[:OF_EDITION]->(ed)\n",
    "MERGE (ed)-[:PART_OF]->(c);"
   ]
  },
  {
   "cell_type": "markdown",
   "metadata": {},
   "source": [
    "## Updated Graph\n",
    "\n",
    "After running these queries and hiding www, the graph looks like the following. We can see how this matches the conceptual design!"
   ]
  },
  {
   "cell_type": "code",
   "execution_count": null,
   "metadata": {},
   "outputs": [
    {
     "data": {
      "text/html": [
       "\n",
       "    <div style=\"background-color: white; padding: 10px; display: inline-block; border: 1px solid #ddd; border-radius: 8px;\">\n",
       "      <img src=\"graph3.png\" alt=\"Graph\" />\n",
       "    </div>\n",
       "    "
      ],
      "text/plain": [
       "<IPython.core.display.HTML object>"
      ]
     },
     "execution_count": 5,
     "metadata": {},
     "output_type": "execute_result"
    }
   ],
   "source": [
    "display_image_with_white_background(\"graph3.png\")"
   ]
  }
 ],
 "metadata": {
  "kernelspec": {
   "display_name": "data_management",
   "language": "python",
   "name": "python3"
  },
  "language_info": {
   "codemirror_mode": {
    "name": "ipython",
    "version": 3
   },
   "file_extension": ".py",
   "mimetype": "text/x-python",
   "name": "python",
   "nbconvert_exporter": "python",
   "pygments_lexer": "ipython3",
   "version": "3.11.11"
  }
 },
 "nbformat": 4,
 "nbformat_minor": 2
}
