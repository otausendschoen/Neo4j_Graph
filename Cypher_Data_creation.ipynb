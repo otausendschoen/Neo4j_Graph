{
 "cells": [
  {
   "cell_type": "markdown",
   "id": "cc216462",
   "metadata": {},
   "source": [
    "# Data Creation"
   ]
  },
  {
   "cell_type": "markdown",
   "id": "b2a9e09c",
   "metadata": {},
   "source": [
    "## Conference and Edition\n"
   ]
  },
  {
   "cell_type": "markdown",
   "id": "fb0fce86",
   "metadata": {},
   "source": [
    "```bash\n",
    "CREATE (ce:ConferenceEdition {name: 'Fifth Workshop on Computer Architecture for Non-Numeric Processing', year: 1980,month:'April',  venue: 'Pacific Grove', editionID:\"conf/sigmod/80nnp\"})\n",
    "\n",
    "CREATE (c:Conference {  name: 'Computer Architecture'})\n"
   ]
  },
  {
   "cell_type": "markdown",
   "id": "8517a0e2",
   "metadata": {},
   "source": [
    "```` bash\n",
    "CREATE CONSTRAINT ON (ce:ConferenceEdition)\n",
    "ASSERT ce.editionID IS UNIQUE;"
   ]
  },
  {
   "cell_type": "markdown",
   "id": "1fe8a401",
   "metadata": {},
   "source": [
    "```bash\n",
    "match (ce:ConferenceEdition {editionID:\"conf/sigmod/80nnp\"})\n",
    "match (c:Conference {name:\"Computer Architecture\"})\n",
    "merge (ce)-[:part_of] ->(c)"
   ]
  },
  {
   "cell_type": "markdown",
   "id": "017b15df",
   "metadata": {},
   "source": [
    "``` BASH\n",
    "MATCH (ce:ConferenceEdition {editionID:\"conf/sigmod/80nnp\"})\n",
    "MATCH (p:proceedings {key:\"conf/sigmod/80nnp\"})\n",
    "MERGE (p)-[:of_edition] ->(ce)"
   ]
  },
  {
   "cell_type": "markdown",
   "id": "8e586727",
   "metadata": {},
   "source": [
    "<div style=\"background-color: white; padding: 10px; display: inline-block;\">\n",
    "  <img src=\"graph3.png\" alt=\"Graph\" />\n",
    "</div>"
   ]
  },
  {
   "cell_type": "markdown",
   "id": "a6289c34",
   "metadata": {},
   "source": [
    "Data creation for the queries to yield good results"
   ]
  },
  {
   "cell_type": "markdown",
   "id": "ae91b0e1",
   "metadata": {},
   "source": [
    "```bash\n",
    "// Create HAS_CITATION edges for three papers\n",
    "UNWIND [\n",
    "  // HanY10b is cited in three others\n",
    "  {source:\"journals/jicce/HanY10b\",    target:\"journals/jicce/Lim11b\"},\n",
    "  {source:\"journals/jicce/HanY10b\",    target:\"journals/jicce/Kim09g\"},\n",
    "  {source:\"journals/jicce/HanY10b\",    target:\"journals/jicce/PhamMLY08\"},\n",
    "\n",
    "  // Lim11b is cited in two others\n",
    "  {source:\"journals/jicce/Lim11b\",    target:\"journals/jicce/Oh12\"},\n",
    "  {source:\"journals/jicce/Lim11b\",    target:\"journals/jicce/Kim09g\"},\n",
    "\n",
    "  // KimYS04 is cited in one other\n",
    "  {source:\"journals/jicce/KimYS04\",   target:\"journals/jicce/LeeKLK10\"}\n",
    "] AS row\n",
    "// 1) make sure both nodes exist (stub if needed)\n",
    "MERGE (src:article {key: row.source})\n",
    "MERGE (tgt:article {key: row.target})\n",
    "// 2) create the citation edge\n",
    "MERGE (src)-[:HAS_CITATION]->(tgt);"
   ]
  },
  {
   "cell_type": "markdown",
   "id": "86653a75",
   "metadata": {},
   "source": [
    "```bash\n",
    "UNWIND [\n",
    "  {articleKey:\"journals/jicce/HanY10b\"},\n",
    "  {articleKey:\"journals/jicce/Lim11b\"},\n",
    "  {articleKey:\"journals/jicce/KimYS04\"}\n",
    "] AS row\n",
    "\n",
    "// 1) Find the article, proceedings, edition and conference\n",
    "MATCH (a:article {key: row.articleKey})\n",
    "MATCH (pr:proceedings {key: \"conf/sigmod/80nnp\"})\n",
    "MATCH (ed:ConferenceEdition {editionID: \"conf/sigmod/80nnp\"})\n",
    "MATCH (c:Conference {name: \"Computer Architecture\"})\n",
    "\n",
    "// 2) Create or find a single booktitle for this edition\n",
    "MERGE (bt:booktitle {\n",
    "  title: \"SIGMOD 1980 Proceedings\"    // label it however makes sense\n",
    "})\n",
    "\n",
    "// 3) Link everything up\n",
    "MERGE (a)-[:PRESENTED_AT]->(bt)\n",
    "MERGE (pr)-[:PRESENTED_AT]->(bt)\n",
    "MERGE (bt)-[:OF_EDITION]->(ed)\n",
    "MERGE (ed)-[:PART_OF]->(c);\n"
   ]
  }
 ],
 "metadata": {
  "kernelspec": {
   "display_name": "base",
   "language": "python",
   "name": "python3"
  },
  "language_info": {
   "name": "python",
   "version": "3.12.3"
  }
 },
 "nbformat": 4,
 "nbformat_minor": 5
}
